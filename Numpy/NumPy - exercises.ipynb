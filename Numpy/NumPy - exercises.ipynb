{
 "cells": [
  {
   "cell_type": "markdown",
   "metadata": {},
   "source": [
    "### Zadanie 1.1"
   ]
  },
  {
   "cell_type": "code",
   "execution_count": 2,
   "metadata": {},
   "outputs": [],
   "source": [
    "import numpy as np"
   ]
  },
  {
   "cell_type": "code",
   "execution_count": 2,
   "metadata": {},
   "outputs": [
    {
     "data": {
      "text/plain": [
       "array([ 1.45235444, -2.45541429, -2.08460315, -2.71699556,  0.15086754,\n",
       "       -1.11583479,  3.79405882, -1.58606584,  0.6841738 , -0.50980933,\n",
       "        2.86123499, -0.27870068,  2.44909243, -1.57816791,  1.75590273,\n",
       "       -1.15204938,  0.70072121,  2.50674508, -2.1190875 ,  1.3747853 ,\n",
       "       -2.10848321,  2.28012642, -3.22550808, -1.47000574, -3.84553425,\n",
       "       -0.15302912, -3.47109299,  1.1577044 , -3.45406093, -0.93798971])"
      ]
     },
     "execution_count": 2,
     "metadata": {},
     "output_type": "execute_result"
    }
   ],
   "source": [
    "w1 = np.random.uniform(-4,4,30)\n",
    "w1"
   ]
  },
  {
   "cell_type": "code",
   "execution_count": 3,
   "metadata": {},
   "outputs": [
    {
     "data": {
      "text/plain": [
       "array([ 1.45235444, -1.11583479, -1.58606584, -1.57816791,  1.75590273,\n",
       "       -1.15204938,  1.3747853 , -1.47000574,  1.1577044 ])"
      ]
     },
     "execution_count": 3,
     "metadata": {},
     "output_type": "execute_result"
    }
   ],
   "source": [
    "w1[((w1>=-2) & (w1<=-1))|((w1>=1) & (w1<=2))]"
   ]
  },
  {
   "cell_type": "code",
   "execution_count": 4,
   "metadata": {},
   "outputs": [
    {
     "data": {
      "text/plain": [
       "12"
      ]
     },
     "execution_count": 4,
     "metadata": {},
     "output_type": "execute_result"
    }
   ],
   "source": [
    "np.sum([w1>0])"
   ]
  },
  {
   "cell_type": "code",
   "execution_count": 5,
   "metadata": {},
   "outputs": [
    {
     "data": {
      "text/plain": [
       "1.8476733196663173"
      ]
     },
     "execution_count": 5,
     "metadata": {},
     "output_type": "execute_result"
    }
   ],
   "source": [
    "np.abs(w1).mean()"
   ]
  },
  {
   "cell_type": "code",
   "execution_count": 6,
   "metadata": {},
   "outputs": [
    {
     "data": {
      "text/plain": [
       "(-3.8455342506998678, 3.7940588158009803)"
      ]
     },
     "execution_count": 6,
     "metadata": {},
     "output_type": "execute_result"
    }
   ],
   "source": [
    "w1.min(),w1.max()"
   ]
  },
  {
   "cell_type": "code",
   "execution_count": 7,
   "metadata": {},
   "outputs": [
    {
     "data": {
      "text/plain": [
       "(0.15086753641459083, 1.7559027300035153)"
      ]
     },
     "execution_count": 7,
     "metadata": {},
     "output_type": "execute_result"
    }
   ],
   "source": [
    "val = 0\n",
    "w1[np.argmin(np.abs(w1))], w1[np.argmin(np.abs(w1-2))]"
   ]
  },
  {
   "cell_type": "code",
   "execution_count": 8,
   "metadata": {},
   "outputs": [
    {
     "data": {
      "text/plain": [
       "array([ 0.45235444, -0.45541429, -0.08460315, -0.71699556,  0.15086754,\n",
       "       -0.11583479,  0.79405882, -0.58606584,  0.6841738 , -0.50980933,\n",
       "        0.86123499, -0.27870068,  0.44909243, -0.57816791,  0.75590273,\n",
       "       -0.15204938,  0.70072121,  0.50674508, -0.1190875 ,  0.3747853 ,\n",
       "       -0.10848321,  0.28012642, -0.22550808, -0.47000574, -0.84553425,\n",
       "       -0.15302912, -0.47109299,  0.1577044 , -0.45406093, -0.93798971])"
      ]
     },
     "execution_count": 8,
     "metadata": {},
     "output_type": "execute_result"
    }
   ],
   "source": [
    "w1 - np.fix(w1)"
   ]
  },
  {
   "cell_type": "code",
   "execution_count": 9,
   "metadata": {},
   "outputs": [
    {
     "data": {
      "text/plain": [
       "array([ 0.38695573, -0.63607487, -0.53899872, -0.70455529,  0.0462342 ,\n",
       "       -0.28538093,  1.        , -0.40848462,  0.18585061, -0.12672707,\n",
       "        0.75579227, -0.0662242 ,  0.6478958 , -0.40641699,  0.46642287,\n",
       "       -0.29486169,  0.19018263,  0.66298892, -0.54802652,  0.36664859,\n",
       "       -0.54525037,  0.60366151, -0.83768084, -0.37810077, -1.        ,\n",
       "       -0.03332413, -0.90197351,  0.3098181 , -0.89751461, -0.23882214])"
      ]
     },
     "execution_count": 9,
     "metadata": {},
     "output_type": "execute_result"
    }
   ],
   "source": [
    "mini = w1.min()\n",
    "maxi = w1.max()\n",
    "newmax = 1\n",
    "newmin = -1\n",
    "\n",
    "(w1 - mini)/(maxi - mini)*(newmax-newmin)-1 #normalizacja\n"
   ]
  },
  {
   "cell_type": "code",
   "execution_count": 10,
   "metadata": {},
   "outputs": [
    {
     "data": {
      "text/plain": [
       "9.0258869557520889"
      ]
     },
     "execution_count": 10,
     "metadata": {},
     "output_type": "execute_result"
    }
   ],
   "source": [
    "np.mean(w1[ (w1>3) | (w1<-2)]**2)"
   ]
  },
  {
   "cell_type": "code",
   "execution_count": 15,
   "metadata": {},
   "outputs": [
    {
     "data": {
      "text/plain": [
       "array(['nieparzysta', 'nieparzysta', 'nieparzysta', 'nieparzysta',\n",
       "       'nieparzysta', 'nieparzysta', 'nieparzysta', 'nieparzysta',\n",
       "       'nieparzysta', 'nieparzysta', 'nieparzysta', 'nieparzysta',\n",
       "       'nieparzysta', 'nieparzysta', 'nieparzysta', 'nieparzysta',\n",
       "       'nieparzysta', 'nieparzysta', 'nieparzysta', 'nieparzysta',\n",
       "       'nieparzysta', 'nieparzysta', 'nieparzysta', 'nieparzysta',\n",
       "       'nieparzysta', 'nieparzysta', 'nieparzysta', 'nieparzysta',\n",
       "       'nieparzysta', 'nieparzysta'], \n",
       "      dtype='<U11')"
      ]
     },
     "execution_count": 15,
     "metadata": {},
     "output_type": "execute_result"
    }
   ],
   "source": [
    "###### 1 podejscie\n",
    "pn = np.array(['parzysta','nieparzysta'])\n",
    "def if_div_2(n):\n",
    "    if n%2!=0:\n",
    "        return 'nieparzysta'\n",
    "    return 'parzysta'\n",
    "\n",
    "np.array([if_div_2(x) for x in w1])\n",
    "\n",
    "\n"
   ]
  },
  {
   "cell_type": "code",
   "execution_count": 19,
   "metadata": {},
   "outputs": [
    {
     "data": {
      "text/plain": [
       "array([ 1.45235444, -2.45541429, -2.08460315, -2.71699556,  0.15086754,\n",
       "       -1.11583479,  3.79405882, -1.58606584,  0.6841738 , -0.50980933,\n",
       "        2.86123499, -0.27870068,  2.44909243, -1.57816791,  1.75590273,\n",
       "       -1.15204938,  0.70072121,  2.50674508, -2.1190875 ,  1.3747853 ,\n",
       "       -2.10848321,  2.28012642, -3.22550808, -1.47000574, -3.84553425,\n",
       "       -0.15302912, -3.47109299,  1.1577044 , -3.45406093, -0.93798971])"
      ]
     },
     "execution_count": 19,
     "metadata": {},
     "output_type": "execute_result"
    }
   ],
   "source": [
    "##########2 podejscie \n",
    "np.where(w1%2==0,'parzysta','nieparzysta')"
   ]
  },
  {
   "cell_type": "code",
   "execution_count": 158,
   "metadata": {},
   "outputs": [
    {
     "data": {
      "text/plain": [
       "array(['nieparzysta', 'nieparzysta', 'nieparzysta', 'nieparzysta',\n",
       "       'nieparzysta', 'nieparzysta', 'nieparzysta', 'nieparzysta',\n",
       "       'nieparzysta', 'nieparzysta', 'nieparzysta', 'nieparzysta',\n",
       "       'nieparzysta', 'nieparzysta', 'nieparzysta', 'nieparzysta',\n",
       "       'nieparzysta', 'nieparzysta', 'nieparzysta', 'nieparzysta',\n",
       "       'nieparzysta', 'nieparzysta', 'nieparzysta', 'nieparzysta',\n",
       "       'nieparzysta', 'nieparzysta', 'nieparzysta', 'nieparzysta',\n",
       "       'nieparzysta', 'nieparzysta'], \n",
       "      dtype='<U11')"
      ]
     },
     "execution_count": 158,
     "metadata": {},
     "output_type": "execute_result"
    }
   ],
   "source": [
    "### 3 podejscie wektoryzacja funkcji\n",
    "pn = np.array(['parzysta','nieparzysta'])\n",
    "def if_div_2(n):\n",
    "    if n%2!=0:\n",
    "        return 'nieparzysta'\n",
    "    return 'parzysta'\n",
    "\n",
    "\n",
    "if_div_2_vectorized = np.vectorize(if_div_2)\n",
    "if_div_2_vectorized(w1)"
   ]
  },
  {
   "cell_type": "code",
   "execution_count": 154,
   "metadata": {},
   "outputs": [
    {
     "data": {
      "text/plain": [
       "array(['nieujemna', 'ujemna', 'ujemna', 'nieujemna', 'nieujemna',\n",
       "       'nieujemna', 'ujemna', 'ujemna', 'nieujemna', 'nieujemna',\n",
       "       'nieujemna', 'nieujemna', 'nieujemna', 'ujemna', 'ujemna',\n",
       "       'nieujemna', 'nieujemna', 'ujemna', 'ujemna', 'nieujemna', 'ujemna',\n",
       "       'nieujemna', 'nieujemna', 'nieujemna', 'nieujemna', 'ujemna',\n",
       "       'nieujemna', 'ujemna', 'nieujemna', 'ujemna'], \n",
       "      dtype='<U9')"
      ]
     },
     "execution_count": 154,
     "metadata": {},
     "output_type": "execute_result"
    }
   ],
   "source": [
    "np.where(w1>=0,'nieujemna','ujemna')\n",
    "\n",
    "## 4 podejscie narzuca maskę\n",
    "p = np.array(['nieujemna','ujemna'])\n",
    "\n",
    "\n",
    "p[(w1<0).astype(int)]"
   ]
  },
  {
   "cell_type": "code",
   "execution_count": 112,
   "metadata": {},
   "outputs": [
    {
     "data": {
      "text/plain": [
       "True"
      ]
     },
     "execution_count": 112,
     "metadata": {},
     "output_type": "execute_result"
    }
   ],
   "source": [
    "w1.sum()/w1.size == w1.mean()\n"
   ]
  },
  {
   "cell_type": "code",
   "execution_count": 123,
   "metadata": {},
   "outputs": [
    {
     "data": {
      "text/plain": [
       "(6.0699390097856547, 2.4637246213377124)"
      ]
     },
     "execution_count": 123,
     "metadata": {},
     "output_type": "execute_result"
    }
   ],
   "source": [
    "w1_var = np.sum(((w1 - w1.mean())**2)/(w1.size))\n",
    "w1_std = np.sqrt(w1_var)\n",
    "\n",
    "w1_var, w1_std"
   ]
  },
  {
   "cell_type": "code",
   "execution_count": 132,
   "metadata": {},
   "outputs": [
    {
     "data": {
      "text/plain": [
       "(3.9585687397254317, -3.9869787805723291)"
      ]
     },
     "execution_count": 132,
     "metadata": {},
     "output_type": "execute_result"
    }
   ],
   "source": [
    "\n",
    "np.sort(w1)[-1],np.sort(w1)[0]"
   ]
  },
  {
   "cell_type": "code",
   "execution_count": 174,
   "metadata": {},
   "outputs": [
    {
     "data": {
      "text/plain": [
       "array([ 3.5, -2.5, -1.5,  2.5,  3.5,  0.5, -3.5, -1.5,  3.5,  1.5,  0.5,\n",
       "        1.5,  1.5, -1.5, -1.5,  3.5,  1.5, -0.5, -2.5,  2.5, -1.5,  3.5,\n",
       "        1.5,  1.5,  2.5, -3.5,  2.5, -2.5,  0.5, -3.5])"
      ]
     },
     "execution_count": 174,
     "metadata": {},
     "output_type": "execute_result"
    }
   ],
   "source": [
    "np.floor(w1)+0.5"
   ]
  },
  {
   "cell_type": "markdown",
   "metadata": {
    "collapsed": true
   },
   "source": [
    "### Zadanie 1.2\n"
   ]
  },
  {
   "cell_type": "code",
   "execution_count": 208,
   "metadata": {},
   "outputs": [
    {
     "data": {
      "text/plain": [
       "-1.0"
      ]
     },
     "execution_count": 208,
     "metadata": {},
     "output_type": "execute_result"
    }
   ],
   "source": [
    "x = np.array([1,2,3,4,5,6,7,8,9,10])\n",
    "y = np.array([10,9,8,7,6,5,4,3,2,1])\n",
    "\n",
    "xdiff = x - x.mean()\n",
    "ydiff = y - y.mean()\n",
    "\n",
    "sxy = np.sum(xdiff * ydiff)\n",
    "sqx = np.sum((x - x.mean())**2)**(1/2) \n",
    "sqy = np.sum((y - y.mean())**2)**(1/2)\n",
    "\n",
    "sxy/(sqx*sqy)\n"
   ]
  },
  {
   "cell_type": "markdown",
   "metadata": {},
   "source": [
    "### Zadanie 1.3"
   ]
  },
  {
   "cell_type": "code",
   "execution_count": 205,
   "metadata": {},
   "outputs": [
    {
     "data": {
      "text/plain": [
       "0.99999999999999989"
      ]
     },
     "execution_count": 205,
     "metadata": {},
     "output_type": "execute_result"
    }
   ],
   "source": [
    "## standarization norm\n",
    "def standarize(v):\n",
    "     return (v-np.mean(v))/np.std(v)\n",
    "\n",
    "np.std(standarize(w1))  "
   ]
  },
  {
   "cell_type": "markdown",
   "metadata": {},
   "source": [
    "### Zadanie 1.4"
   ]
  },
  {
   "cell_type": "code",
   "execution_count": 196,
   "metadata": {},
   "outputs": [
    {
     "data": {
      "text/plain": [
       "220"
      ]
     },
     "execution_count": 196,
     "metadata": {},
     "output_type": "execute_result"
    }
   ],
   "source": [
    "####iloczyn skalar\n",
    "\n",
    "np.dot(x,y)"
   ]
  },
  {
   "cell_type": "markdown",
   "metadata": {},
   "source": [
    "### Zadanie 1.5"
   ]
  },
  {
   "cell_type": "code",
   "execution_count": 209,
   "metadata": {},
   "outputs": [
    {
     "data": {
      "text/plain": [
       "5.7445626465380286"
      ]
     },
     "execution_count": 209,
     "metadata": {},
     "output_type": "execute_result"
    }
   ],
   "source": [
    "##MSE mean squared error\n",
    "((np.sum((x-y)**2)/x.size))**(1/2)\n"
   ]
  },
  {
   "cell_type": "markdown",
   "metadata": {},
   "source": [
    "### Zadanie 1.6"
   ]
  },
  {
   "cell_type": "code",
   "execution_count": 211,
   "metadata": {},
   "outputs": [
    {
     "data": {
      "text/plain": [
       "5.0"
      ]
     },
     "execution_count": 211,
     "metadata": {},
     "output_type": "execute_result"
    }
   ],
   "source": [
    "## Mean absolute error\n",
    "np.abs(x-y).mean()"
   ]
  },
  {
   "cell_type": "markdown",
   "metadata": {},
   "source": [
    "### Zadanie 1.7"
   ]
  },
  {
   "cell_type": "code",
   "execution_count": 212,
   "metadata": {},
   "outputs": [
    {
     "data": {
      "text/plain": [
       "5.0"
      ]
     },
     "execution_count": 212,
     "metadata": {},
     "output_type": "execute_result"
    }
   ],
   "source": [
    "## Median abs error\n",
    "np.median(np.abs(x-y))"
   ]
  },
  {
   "cell_type": "markdown",
   "metadata": {},
   "source": [
    "### Zadanie 1.8"
   ]
  },
  {
   "cell_type": "code",
   "execution_count": 217,
   "metadata": {},
   "outputs": [
    {
     "data": {
      "text/plain": [
       "0.5714285714285714"
      ]
     },
     "execution_count": 217,
     "metadata": {},
     "output_type": "execute_result"
    }
   ],
   "source": [
    "## Hamming dist\n",
    "\n",
    "x=np.array([1,3,4,5,8,9,10])\n",
    "y=np.array([1,2,4,5,7,10,10])\n",
    "\n",
    "np.sum(y == x)/x.size"
   ]
  },
  {
   "cell_type": "markdown",
   "metadata": {},
   "source": [
    "### Zadanie 1.9"
   ]
  },
  {
   "cell_type": "code",
   "execution_count": 243,
   "metadata": {},
   "outputs": [
    {
     "data": {
      "text/plain": [
       "-11.996738884553857"
      ]
     },
     "execution_count": 243,
     "metadata": {},
     "output_type": "execute_result"
    }
   ],
   "source": [
    "## cross entropy loss - do funkcji logistycznej\n",
    "\n",
    "y0 = np.repeat([0,1],[6,10])\n",
    "y1 = np.random.uniform(0,1,16)\n",
    "\n",
    "np.sum( y1 * np.log(y1) + (1-y0) * np.log(1-y1) )"
   ]
  },
  {
   "cell_type": "markdown",
   "metadata": {},
   "source": [
    "### Zadanie 1.10"
   ]
  },
  {
   "cell_type": "code",
   "execution_count": 33,
   "metadata": {
    "scrolled": true
   },
   "outputs": [
    {
     "data": {
      "text/plain": [
       "(array([0, 1, 2, 3]), array([1, 4, 4, 2]))"
      ]
     },
     "execution_count": 33,
     "metadata": {},
     "output_type": "execute_result"
    }
   ],
   "source": [
    "def lead(x,n):\n",
    "    x = x[n:]\n",
    "    nans = np.repeat([np.nan],n)\n",
    "    return np.concatenate((x,nans))\n",
    "\n",
    "\n",
    "\n",
    "\n",
    "def lag(x,n):\n",
    "    x = x[:(x.size - n)]\n",
    "    nans = np.repeat([np.nan],n)\n",
    "    return np.concatenate((nans,x))\n",
    "\n",
    "lead(x,1), lag(x,1)\n",
    "\n"
   ]
  },
  {
   "cell_type": "markdown",
   "metadata": {},
   "source": [
    "### Digitize training:"
   ]
  },
  {
   "cell_type": "code",
   "execution_count": 36,
   "metadata": {},
   "outputs": [
    {
     "data": {
      "text/plain": [
       "(array([0, 1, 2, 3]), array([1, 4, 4, 2]))"
      ]
     },
     "execution_count": 36,
     "metadata": {},
     "output_type": "execute_result"
    }
   ],
   "source": [
    "x = np.array([1,2,3,4,0,1,3,2,5,5,4])\n",
    "np.unique(np.digitize(x,np.array([1,3,5])),return_counts = True)"
   ]
  },
  {
   "cell_type": "markdown",
   "metadata": {},
   "source": [
    "### Zadanie 1.11"
   ]
  },
  {
   "cell_type": "code",
   "execution_count": 349,
   "metadata": {},
   "outputs": [
    {
     "data": {
      "text/plain": [
       "array([False,  True,  True,  True], dtype=bool)"
      ]
     },
     "execution_count": 349,
     "metadata": {},
     "output_type": "execute_result"
    }
   ],
   "source": [
    "x = np.array([False,True,False,True])\n",
    "\n",
    "def cumall(x):\n",
    "\n",
    "    fls = np.argmin(x)\n",
    "    if np.sum(x) == x.size: #np.all(x)\n",
    "        return x\n",
    "    xtrue = x[:fls]\n",
    "    xfalse = x[fls:]\n",
    "    xfalse = np.repeat([False],xfalse.size)\n",
    "    return np.concatenate((xtrue,xfalse))\n",
    "\n",
    "cumall(x)\n",
    "\n",
    "def cumany(x):\n",
    " \n",
    "    fls = np.argmax(x)\n",
    "    if np.sum(x) == x.size:\n",
    "        return x\n",
    "    xtrue = x[fls:]\n",
    "    xfalse = x[:fls]\n",
    "    xtrue = np.repeat([True],xtrue.size)\n",
    "    return np.concatenate((xfalse,xtrue))\n",
    "\n",
    "cumany(x)"
   ]
  },
  {
   "cell_type": "markdown",
   "metadata": {},
   "source": [
    "### Zadanie 1.12"
   ]
  },
  {
   "cell_type": "code",
   "execution_count": 35,
   "metadata": {},
   "outputs": [
    {
     "data": {
      "text/plain": [
       "(array([20, 22, 24, 26, 28]), array([25204, 10043,  9973, 24888, 29892]))"
      ]
     },
     "execution_count": 35,
     "metadata": {},
     "output_type": "execute_result"
    }
   ],
   "source": [
    "p = np.array((0.25,0.1,0.1,0.25,0.3))\n",
    "x = np.array((20,22,24,26,28))\n",
    "\n",
    "def losuj(x,n):\n",
    "    \n",
    "    pcumsum = p.cumsum()\n",
    "    u = np.random.uniform(0,1,n)\n",
    "    \n",
    "    return x[np.digitize(u,pcumsum)]\n",
    "\n",
    "wynik = losuj(x,100000)\n",
    "np.unique(wynik,return_counts=True)\n"
   ]
  },
  {
   "cell_type": "markdown",
   "metadata": {},
   "source": [
    "### Zadanie 1.13"
   ]
  },
  {
   "cell_type": "code",
   "execution_count": 68,
   "metadata": {},
   "outputs": [
    {
     "data": {
      "text/plain": [
       "array([  4.,   6.,   6.,   8.,  10.,   2.])"
      ]
     },
     "execution_count": 68,
     "metadata": {},
     "output_type": "execute_result"
    }
   ],
   "source": [
    "x = np.linspace(0,20,11)\n",
    "y = np.random.randint(0,20,11)\n",
    "z = np.random.randint(0,20,6)\n",
    "\n",
    "def lin_inter(x,y,z):\n",
    "    idx = np.digitize(z,x) #get nearest x bigger than z for each z \n",
    "    idx_l = np.digitize(z,x) -1\n",
    "\n",
    "    return y[idx_l] + (z-x[idx_l])*(y[idx] - y[idx_l])/(x[idx] - x[idx_l]) #interpol lin\n",
    "\n",
    "#lin_inter(x,y,z)\n",
    "z = np.array([2,4,5,7,8,1])\n",
    "x[np.digitize(z,x)]"
   ]
  },
  {
   "cell_type": "markdown",
   "metadata": {},
   "source": [
    "### Zadanie 1.14"
   ]
  },
  {
   "cell_type": "code",
   "execution_count": null,
   "metadata": {
    "collapsed": true
   },
   "outputs": [],
   "source": [
    "#A = np.random.randint(1,25,18).reshape(-1,2)\n",
    "\n",
    "### softmax function returns matrix of the same size, where each vector is transformed Rk-->Rk\n",
    "### \n",
    "###\n",
    "A = np.array([[3,1,0],[2,4,5],[1,1,0]])\n",
    "\n",
    "def softmax(A):\n",
    "    exp_rows = np.sum(np.exp(A),axis=1)\n",
    "    exp_rows = exp_rows.reshape(-1,1)\n",
    "    A1 =  np.exp(A)/exp_rows\n",
    "    return A1, np.max(A1,axis=1)\n",
    "\n",
    "softmax(A)"
   ]
  },
  {
   "cell_type": "code",
   "execution_count": 520,
   "metadata": {},
   "outputs": [
    {
     "data": {
      "text/plain": [
       "((4, 2), (4, 1))"
      ]
     },
     "execution_count": 520,
     "metadata": {},
     "output_type": "execute_result"
    }
   ],
   "source": [
    "\n",
    "A.shape,np.sum(np.exp(A),axis=1).reshape(4,1).shape\n"
   ]
  },
  {
   "cell_type": "markdown",
   "metadata": {
    "collapsed": true
   },
   "source": [
    "### Zadanie 1.15"
   ]
  },
  {
   "cell_type": "code",
   "execution_count": 45,
   "metadata": {},
   "outputs": [
    {
     "data": {
      "text/plain": [
       "(9.0, array([ 4,  4,  4,  5, 10, 12, 14, 14, 14]))"
      ]
     },
     "execution_count": 45,
     "metadata": {},
     "output_type": "execute_result"
    }
   ],
   "source": [
    "x = np.random.randint(3,19,9)\n",
    "\n",
    "def kwins_mean(x,k):\n",
    "\n",
    "    x = np.sort(x)\n",
    "    x[:k] = x[k]\n",
    "    x[-k:] = x[(-k-1)]\n",
    "    return x.mean(),x\n",
    "\n",
    "kwins_mean(x,2)"
   ]
  },
  {
   "cell_type": "markdown",
   "metadata": {},
   "source": [
    "#### Setting print options:"
   ]
  },
  {
   "cell_type": "code",
   "execution_count": 75,
   "metadata": {},
   "outputs": [],
   "source": [
    "np.set_printoptions(precision=4,suppress = True) #suppress doesnt ptin"
   ]
  },
  {
   "cell_type": "markdown",
   "metadata": {},
   "source": [
    "### Zadanie 1.16"
   ]
  },
  {
   "cell_type": "code",
   "execution_count": 76,
   "metadata": {},
   "outputs": [
    {
     "data": {
      "text/plain": [
       "(array([    -0.0779,     -0.081 ,     -0.1638,     -0.4938,     -1.9808,\n",
       "            -9.9218,    -59.6042,   -417.6045,  -3343.1272, -30104.3813]),\n",
       " array([-0.0779, -0.0405, -0.0273, -0.0206, -0.0165, -0.0138, -0.0118,\n",
       "        -0.0104, -0.0092, -0.0083]))"
      ]
     },
     "execution_count": 76,
     "metadata": {},
     "output_type": "execute_result"
    }
   ],
   "source": [
    "import math\n",
    "\n",
    "def factorial_stirling(n):\n",
    "     return (n/np.exp(1))**n*np.sqrt(2*np.pi*n)\n",
    "\n",
    "factorial_vect = np.vectorize(math.factorial)\n",
    "\n",
    "#comparison\n",
    "\n",
    "stirling = factorial_stirling(np.array([1,2,3,4,5,6,7,8,9,10]))     \n",
    "math = factorial_vect(np.array([1,2,3,4,5,6,7,8,9,10]))                    \n",
    "\n",
    "abs_error = stirling - math\n",
    "rel_error = (stirling - math)/math\n",
    "\n",
    "abs_error,rel_error"
   ]
  },
  {
   "cell_type": "markdown",
   "metadata": {},
   "source": [
    "### Zadanie 1.17"
   ]
  },
  {
   "cell_type": "code",
   "execution_count": 130,
   "metadata": {},
   "outputs": [
    {
     "name": "stdout",
     "output_type": "stream",
     "text": [
      "10 loops, best of 3: 74.7 ms per loop\n"
     ]
    }
   ],
   "source": [
    "%%timeit\n",
    "def leibnitz(n):\n",
    "     return 4*np.sum((np.repeat(-1,n)**np.arange(0,n))/(np.arange(1,n*2,2)))\n",
    "\n",
    "#np.tile([1,-1],1000)    \n",
    "leibnitz(1000000)"
   ]
  },
  {
   "cell_type": "markdown",
   "metadata": {},
   "source": [
    "### Zadanie 1.19"
   ]
  },
  {
   "cell_type": "code",
   "execution_count": 129,
   "metadata": {},
   "outputs": [
    {
     "name": "stdout",
     "output_type": "stream",
     "text": [
      "10000 loops, best of 3: 55.6 µs per loop\n"
     ]
    }
   ],
   "source": [
    "%%timeit\n",
    "x = np.array([1,2,3,5,6,np.nan,7,1,np.nan])\n",
    "meanx = np.nanmean(x)\n",
    "x = np.where(np.isnan(x),meanx,x)\n",
    "x"
   ]
  },
  {
   "cell_type": "markdown",
   "metadata": {},
   "source": [
    "### Zadanie 1.20"
   ]
  },
  {
   "cell_type": "code",
   "execution_count": 29,
   "metadata": {},
   "outputs": [],
   "source": [
    "x = np.pi - np.floor(np.pi)\n",
    "x = str(int(np.trunc(x*10**10)))"
   ]
  },
  {
   "cell_type": "code",
   "execution_count": 31,
   "metadata": {},
   "outputs": [
    {
     "name": "stdout",
     "output_type": "stream",
     "text": [
      "The slowest run took 5.17 times longer than the fastest. This could mean that an intermediate result is being cached.\n",
      "100000 loops, best of 3: 4.72 µs per loop\n"
     ]
    }
   ],
   "source": [
    "%%timeit\n",
    "np.array([int(s) for s in x])"
   ]
  },
  {
   "cell_type": "code",
   "execution_count": 32,
   "metadata": {},
   "outputs": [],
   "source": [
    "x = np.pi\n",
    "powers_10 = np.repeat(10,10)**np.arange(1,11)"
   ]
  },
  {
   "cell_type": "code",
   "execution_count": 33,
   "metadata": {},
   "outputs": [
    {
     "name": "stdout",
     "output_type": "stream",
     "text": [
      "The slowest run took 178.08 times longer than the fastest. This could mean that an intermediate result is being cached.\n",
      "100000 loops, best of 3: 5.23 µs per loop\n"
     ]
    }
   ],
   "source": [
    "%%timeit\n",
    "np.trunc((x * powers_10 - np.trunc(x * powers_10))*10)"
   ]
  },
  {
   "cell_type": "markdown",
   "metadata": {},
   "source": [
    "### Zadanie 1.21"
   ]
  },
  {
   "cell_type": "code",
   "execution_count": 35,
   "metadata": {},
   "outputs": [
    {
     "data": {
      "text/plain": [
       "(1, 5, (array([0, 1, 2, 3, 4, 5]), array([3, 5, 2, 4, 3, 3])))"
      ]
     },
     "execution_count": 35,
     "metadata": {},
     "output_type": "execute_result"
    }
   ],
   "source": [
    "x = np.random.randint(0,6,20)\n",
    "\n",
    "counts = np.unique(x,return_counts=True)\n",
    "idx = np.argmax(counts[1])\n",
    "counts[0][idx], np.max(counts[1]), counts\n"
   ]
  },
  {
   "cell_type": "markdown",
   "metadata": {},
   "source": [
    "### Zadanie 1.22"
   ]
  },
  {
   "cell_type": "code",
   "execution_count": 42,
   "metadata": {
    "scrolled": true
   },
   "outputs": [
    {
     "data": {
      "image/png": "[encoded data removed]",
      "text/plain": [
       "<matplotlib.figure.Figure at 0x7f916d2d9da0>"
      ]
     },
     "metadata": {},
     "output_type": "display_data"
    },
    {
     "data": {
      "text/plain": [
       "(22.063854745870074, 1.0280058022341776)"
      ]
     },
     "execution_count": 42,
     "metadata": {},
     "output_type": "execute_result"
    }
   ],
   "source": [
    "import matplotlib.pyplot as plt\n",
    "\n",
    "x = np.arange(5,105,2)\n",
    "y = np.arange(28,128,2) + np.random.normal(0,6,50)\n",
    "\n",
    "x_mean = x.mean()\n",
    "y_mean = y.mean()\n",
    "\n",
    "nom = np.dot((x - x_mean),(y - y_mean))\n",
    "denom = np.sum((x-x_mean)**2)\n",
    "\n",
    "beta = nom/denom\n",
    "alfa = y_mean - beta*x_mean\n",
    "\n",
    "plt.plot(x,y,'o')\n",
    "plt.show()\n",
    "alfa, beta"
   ]
  },
  {
   "cell_type": "markdown",
   "metadata": {},
   "source": [
    "### Zadanie 1.23"
   ]
  },
  {
   "cell_type": "code",
   "execution_count": 43,
   "metadata": {},
   "outputs": [
    {
     "data": {
      "text/plain": [
       "array([[ 8,  9, 10, 11],\n",
       "       [ 4,  5,  6,  7],\n",
       "       [ 0,  1,  2,  3]])"
      ]
     },
     "execution_count": 43,
     "metadata": {},
     "output_type": "execute_result"
    }
   ],
   "source": [
    "A = np.arange(0,12).reshape(3,-1)\n",
    "A[::-1]"
   ]
  },
  {
   "cell_type": "markdown",
   "metadata": {},
   "source": [
    "### Zadanie 1.24"
   ]
  },
  {
   "cell_type": "code",
   "execution_count": 44,
   "metadata": {},
   "outputs": [
    {
     "data": {
      "text/plain": [
       "array([[ 3,  2,  1,  0],\n",
       "       [ 7,  6,  5,  4],\n",
       "       [11, 10,  9,  8]])"
      ]
     },
     "execution_count": 44,
     "metadata": {},
     "output_type": "execute_result"
    }
   ],
   "source": [
    "A = np.arange(0,12).reshape(3,-1)\n",
    "A[:,::-1]"
   ]
  },
  {
   "cell_type": "markdown",
   "metadata": {},
   "source": [
    "### Zadanie 1.25"
   ]
  },
  {
   "cell_type": "code",
   "execution_count": 346,
   "metadata": {},
   "outputs": [
    {
     "data": {
      "text/plain": [
       "array([[ 0, 10, 20, 30, 40],\n",
       "       [ 8, 18, 28, 38, 48]])"
      ]
     },
     "execution_count": 346,
     "metadata": {},
     "output_type": "execute_result"
    }
   ],
   "source": [
    "A = np.arange(0,50,2).reshape(5,-1)\n",
    "np.vstack((np.min(A,axis=1),np.max(A,axis=1)))"
   ]
  },
  {
   "cell_type": "markdown",
   "metadata": {},
   "source": [
    "### Zadanie 1.26"
   ]
  },
  {
   "cell_type": "code",
   "execution_count": 378,
   "metadata": {},
   "outputs": [
    {
     "data": {
      "text/plain": [
       "array([[  2.81400000e+03,   3.72600000e+03,   4.76600000e+03,\n",
       "          5.93400000e+03,   7.23000000e+03,   8.65400000e+03,\n",
       "          1.02060000e+04,   1.18860000e+04,   1.36940000e+04,\n",
       "          1.56300000e+04,   1.76940000e+04,   1.98860000e+04,\n",
       "          2.22060000e+04,   2.46540000e+04,   2.72300000e+04,\n",
       "          2.99340000e+04,   3.27660000e+04],\n",
       "       [  1.37400000e+03,   2.03000000e+03,   2.81400000e+03,\n",
       "          3.72600000e+03,   4.76600000e+03,   5.93400000e+03,\n",
       "          7.23000000e+03,   8.65400000e+03,   1.02060000e+04,\n",
       "          1.18860000e+04,   1.36940000e+04,   1.56300000e+04,\n",
       "          1.76940000e+04,   1.98860000e+04,   2.22060000e+04,\n",
       "          2.46540000e+04,   2.72300000e+04],\n",
       "       [  4.46000000e+02,   8.46000000e+02,   1.37400000e+03,\n",
       "          2.03000000e+03,   2.81400000e+03,   3.72600000e+03,\n",
       "          4.76600000e+03,   5.93400000e+03,   7.23000000e+03,\n",
       "          8.65400000e+03,   1.02060000e+04,   1.18860000e+04,\n",
       "          1.36940000e+04,   1.56300000e+04,   1.76940000e+04,\n",
       "          1.98860000e+04,   2.22060000e+04],\n",
       "       [  3.00000000e+01,   1.74000000e+02,   4.46000000e+02,\n",
       "          8.46000000e+02,   1.37400000e+03,   2.03000000e+03,\n",
       "          2.81400000e+03,   3.72600000e+03,   4.76600000e+03,\n",
       "          5.93400000e+03,   7.23000000e+03,   8.65400000e+03,\n",
       "          1.02060000e+04,   1.18860000e+04,   1.36940000e+04,\n",
       "          1.56300000e+04,   1.76940000e+04],\n",
       "       [  1.26000000e+02,   1.40000000e+01,   3.00000000e+01,\n",
       "          1.74000000e+02,   4.46000000e+02,   8.46000000e+02,\n",
       "          1.37400000e+03,   2.03000000e+03,   2.81400000e+03,\n",
       "          3.72600000e+03,   4.76600000e+03,   5.93400000e+03,\n",
       "          7.23000000e+03,   8.65400000e+03,   1.02060000e+04,\n",
       "          1.18860000e+04,   1.36940000e+04],\n",
       "       [  7.34000000e+02,   3.66000000e+02,   1.26000000e+02,\n",
       "          1.40000000e+01,   3.00000000e+01,   1.74000000e+02,\n",
       "          4.46000000e+02,   8.46000000e+02,   1.37400000e+03,\n",
       "          2.03000000e+03,   2.81400000e+03,   3.72600000e+03,\n",
       "          4.76600000e+03,   5.93400000e+03,   7.23000000e+03,\n",
       "          8.65400000e+03,   1.02060000e+04]])"
      ]
     },
     "execution_count": 378,
     "metadata": {},
     "output_type": "execute_result"
    }
   ],
   "source": [
    "import scipy.spatial\n",
    "\n",
    "A = np.arange(0,47,2).reshape(6,-1)\n",
    "B = np.arange(28,96).reshape(-1,4)\n",
    "\n",
    "scipy.spatial.distance.cdist(A,B,'sqeuclidean') #odl euklidesowe"
   ]
  },
  {
   "cell_type": "markdown",
   "metadata": {},
   "source": [
    "### Zadanie 1.27"
   ]
  },
  {
   "cell_type": "code",
   "execution_count": 354,
   "metadata": {},
   "outputs": [
    {
     "data": {
      "text/plain": [
       "array([[ 0.,  1.,  0.,  0.,  0.,  0.,  0.,  0.,  0.,  0.,  0.],\n",
       "       [ 0.,  0.,  1.,  0.,  0.,  0.,  0.,  0.,  0.,  0.,  0.],\n",
       "       [ 0.,  1.,  0.,  0.,  0.,  0.,  0.,  0.,  0.,  0.,  0.],\n",
       "       [ 0.,  0.,  0.,  1.,  0.,  0.,  0.,  0.,  0.,  0.,  0.],\n",
       "       [ 0.,  0.,  1.,  0.,  0.,  0.,  0.,  0.,  0.,  0.,  0.],\n",
       "       [ 1.,  0.,  0.,  0.,  0.,  0.,  0.,  0.,  0.,  0.,  0.],\n",
       "       [ 0.,  0.,  0.,  0.,  1.,  0.,  0.,  0.,  0.,  0.,  0.],\n",
       "       [ 0.,  0.,  0.,  0.,  0.,  0.,  0.,  0.,  0.,  0.,  1.],\n",
       "       [ 0.,  0.,  0.,  1.,  0.,  0.,  0.,  0.,  0.,  0.,  0.]])"
      ]
     },
     "execution_count": 354,
     "metadata": {},
     "output_type": "execute_result"
    }
   ],
   "source": [
    "T=np.array([1,2,1,3,2,0,4,10,3])\n",
    "R=np.zeros((T.size,T.max()+1))\n",
    "\n",
    "\n",
    "for row in range(R.shape[0]):\n",
    "    R[row,T[row]] = 1\n",
    "R"
   ]
  },
  {
   "cell_type": "code",
   "execution_count": 355,
   "metadata": {},
   "outputs": [
    {
     "data": {
      "text/plain": [
       "array([[ 0.,  1.,  0.,  0.,  0.,  0.,  0.,  0.,  0.,  0.,  0.],\n",
       "       [ 0.,  0.,  1.,  0.,  0.,  0.,  0.,  0.,  0.,  0.,  0.],\n",
       "       [ 0.,  1.,  0.,  0.,  0.,  0.,  0.,  0.,  0.,  0.,  0.],\n",
       "       [ 0.,  0.,  0.,  1.,  0.,  0.,  0.,  0.,  0.,  0.,  0.],\n",
       "       [ 0.,  0.,  1.,  0.,  0.,  0.,  0.,  0.,  0.,  0.,  0.],\n",
       "       [ 1.,  0.,  0.,  0.,  0.,  0.,  0.,  0.,  0.,  0.,  0.],\n",
       "       [ 0.,  0.,  0.,  0.,  1.,  0.,  0.,  0.,  0.,  0.,  0.],\n",
       "       [ 0.,  0.,  0.,  0.,  0.,  0.,  0.,  0.,  0.,  0.,  1.],\n",
       "       [ 0.,  0.,  0.,  1.,  0.,  0.,  0.,  0.,  0.,  0.,  0.]])"
      ]
     },
     "execution_count": 355,
     "metadata": {},
     "output_type": "execute_result"
    }
   ],
   "source": [
    "## 2 approach without for loop\n",
    "T=np.array([1,2,1,3,2,0,4,10,3])\n",
    "R=np.zeros((T.size,T.max()+1))\n",
    "rows = np.arange(0,T.size)  \n",
    "cols = T\n",
    "\n",
    "R[rows,cols] = 1 #nice indexing is enough\n",
    "R"
   ]
  },
  {
   "cell_type": "markdown",
   "metadata": {},
   "source": [
    "### Zadanie 1.28"
   ]
  },
  {
   "cell_type": "code",
   "execution_count": 45,
   "metadata": {},
   "outputs": [
    {
     "data": {
      "text/plain": [
       "array([[ 0.1       ,  0.2       ,  0.3       ,  0.4       ],\n",
       "       [ 0.19230769,  0.23076923,  0.26923077,  0.30769231],\n",
       "       [ 0.21428571,  0.23809524,  0.26190476,  0.28571429],\n",
       "       [ 0.22413793,  0.24137931,  0.25862069,  0.27586207]])"
      ]
     },
     "execution_count": 45,
     "metadata": {},
     "output_type": "execute_result"
    }
   ],
   "source": [
    "A = np.arange(1,17).reshape(4,4)\n",
    "\n",
    "#A = np.array([[0,1],[0,0]])\n",
    "def to_stochastic(A):\n",
    "    \n",
    "    if np.any(A<0):\n",
    "        return  'Negative elements'\n",
    "    if np.all(np.any(A>0, axis = 1)):\n",
    "        return A/np.sum(A,axis=1).reshape(-1,1)   \n",
    "    \n",
    "    return 'Zeros only in at last one row'\n",
    "\n",
    "A1 = to_stochastic(A)\n",
    "A1"
   ]
  },
  {
   "cell_type": "markdown",
   "metadata": {},
   "source": [
    "### Zadanie 1.29"
   ]
  },
  {
   "cell_type": "code",
   "execution_count": 13,
   "metadata": {},
   "outputs": [
    {
     "data": {
      "text/plain": [
       "array([[0.0961, 0.0589, 0.0589, 0.0961],\n",
       "       [0.0589, 0.0361, 0.0361, 0.0589],\n",
       "       [0.0589, 0.0361, 0.0361, 0.0589],\n",
       "       [0.0961, 0.0589, 0.0589, 0.0961]])"
      ]
     },
     "execution_count": 13,
     "metadata": {},
     "output_type": "execute_result"
    }
   ],
   "source": [
    "x = np.array([2,3,4,5])\n",
    "y = np.array([2,3,4,5])\n",
    "O = np.array(((0,0.01,0.1,0.2), (0.01, 0.05,0.03,0.1),(0.1,0.03, 0.05,0.01),(0.2,0.1,0.01,0)))\n",
    "\n",
    "\n",
    "def indepentent(O):\n",
    "    ind_matrix = np.sum(O,axis=1).reshape(-1,1) * np.sum(O,axis=0).reshape(1,-1)\n",
    "    return  np.all(O == ind_matrix)\n",
    "    \n",
    "\n",
    "indepentent(O)"
   ]
  },
  {
   "cell_type": "code",
   "execution_count": 11,
   "metadata": {},
   "outputs": [
    {
     "data": {
      "text/plain": [
       "array([[0.0961, 0.0589, 0.0589, 0.0961],\n",
       "       [0.0589, 0.0361, 0.0361, 0.0589],\n",
       "       [0.0589, 0.0361, 0.0361, 0.0589],\n",
       "       [0.0961, 0.0589, 0.0589, 0.0961]])"
      ]
     },
     "execution_count": 11,
     "metadata": {},
     "output_type": "execute_result"
    }
   ],
   "source": [
    "## same calc as above, but using outer\n",
    "\n",
    "horiz = np.sum(O,axis=0)\n",
    "verti = np.sum(O,axis=1)\n",
    "#np.outer(verti,horiz)\n",
    "\n",
    "horiz,verti\n",
    "np.outer(verti,horiz)"
   ]
  },
  {
   "cell_type": "code",
   "execution_count": 67,
   "metadata": {},
   "outputs": [
    {
     "ename": "NameError",
     "evalue": "name 'O' is not defined",
     "output_type": "error",
     "traceback": [
      "\u001b[0;31m---------------------------------------------------------------------------\u001b[0m",
      "\u001b[0;31mNameError\u001b[0m                                 Traceback (most recent call last)",
      "\u001b[0;32m<ipython-input-67-9e7e2a48e057>\u001b[0m in \u001b[0;36m<module>\u001b[0;34m()\u001b[0m\n\u001b[1;32m     13\u001b[0m \u001b[0;34m\u001b[0m\u001b[0m\n\u001b[1;32m     14\u001b[0m \u001b[0;34m\u001b[0m\u001b[0m\n\u001b[0;32m---> 15\u001b[0;31m \u001b[0mstats\u001b[0m\u001b[0;34m(\u001b[0m\u001b[0mx\u001b[0m\u001b[0;34m,\u001b[0m\u001b[0my\u001b[0m\u001b[0;34m,\u001b[0m\u001b[0mO\u001b[0m\u001b[0;34m)\u001b[0m\u001b[0;34m\u001b[0m\u001b[0m\n\u001b[0m",
      "\u001b[0;31mNameError\u001b[0m: name 'O' is not defined"
     ]
    }
   ],
   "source": [
    "def stats(x,y,O):\n",
    "    \n",
    "    expected_x = np.sum(np.sum(O,axis=1) * x)\n",
    "    expected_y = np.sum(np.sum(O,axis=0) * y)\n",
    "    \n",
    "    var_x = np.sum(np.sum(O,axis=1) * (x**2)) - expected_x**2\n",
    "    var_y = np.sum(np.sum(O,axis=0) * (y**2)) - expected_y**2\n",
    "    \n",
    "    cov_xy = np.sum(np.outer(x,y)*O) - expected_x*expected_y\n",
    "    cor_xy = cov_xy/(np.sqrt(var_x*var_y))\n",
    "    \n",
    "    return expected_x,expected_y,var_x,cor_xy\n",
    "\n",
    "\n",
    "stats(x,y,O)"
   ]
  },
  {
   "cell_type": "markdown",
   "metadata": {},
   "source": [
    "### K means - first algorithm"
   ]
  },
  {
   "cell_type": "code",
   "execution_count": null,
   "metadata": {
    "collapsed": true
   },
   "outputs": [],
   "source": [
    "#k-means algorithm\n",
    "import scipy.spatial\n",
    "import matplotlib.pyplot as plt\n",
    "\n",
    "x = np.trunc(np.random.normal(2,1,100)*10)\n",
    "y = np.trunc(np.random.normal(2,1,100)*10)\n",
    "\n",
    "x2=np.trunc(np.random.normal(4,4,100)*10)\n",
    "y2=np.trunc(np.random.normal(4,4,100)*10)\n",
    "\n",
    "x3=np.trunc(np.random.normal(8,3,100)*10)\n",
    "y3=np.trunc(np.random.normal(10,3,100)*10)\n",
    "\n",
    "A0 = np.column_stack((x,y))\n",
    "A1 = np.column_stack((x2,y2))\n",
    "A2 = np.column_stack((x3,y3))\n",
    "\n",
    "# stacking vectors to matrix with x,y coordinates\n",
    "A = np.vstack((A0,A1,A2))\n",
    "\n",
    "# 3 random points from A_tot - initiate centroids\n",
    "centr_rows = np.random.choice(A.shape[0],3)\n",
    "centroids = np.array(A[centr_rows])\n",
    "\n",
    "for i in range(30):\n",
    "    \n",
    "    #calc nearest centroid for every point\n",
    "    A_near_centroid = np.argmin((scipy.spatial.distance.cdist(A,centroids, 'sqeuclidean')),axis=1)\n",
    "    \n",
    "    #calc mean for every centroid and set centroids to new means\n",
    "    A_one_hot =np.zeros((A_near_centroid.size,A_near_centroid.max()+1))\n",
    "    rows = np.arange(0,A_near_centroid.size)  \n",
    "    cols = A_near_centroid\n",
    "    A_one_hot[rows,cols] = 1\n",
    "    \n",
    "    centroids = np.transpose(np.matmul(A.T,A_one_hot)/np.sum(A_one_hot,axis=0)) \n",
    "\n",
    "    \n",
    "colors = np.array([\"#FF0000\",\"#00FF00\", \"#0000FF\"])\n",
    "plt.scatter(A[:,0],A[:,1],color=colors[A_near_centroid])\n",
    "plt.plot(centroids[:,0], centroids[:,1], 'yo')\n",
    "plt.show()"
   ]
  },
  {
   "cell_type": "markdown",
   "metadata": {},
   "source": [
    "### Zadanie 1.26 - check distances between every element in A (points) and B (centroids) matrix + reperformed kmeans"
   ]
  },
  {
   "cell_type": "code",
   "execution_count": 22,
   "metadata": {},
   "outputs": [
    {
     "data": {
      "text/plain": [
       "array([[  43.09333333,   42.09333333],\n",
       "       [  80.08      ,  100.63      ],\n",
       "       [  27.71698113,   12.11320755],\n",
       "       [  27.71698113,   12.11320755],\n",
       "       [  80.08      ,  100.63      ],\n",
       "       [  27.71698113,   12.11320755],\n",
       "       [  27.71698113,   12.11320755],\n",
       "       [  21.24390244,   35.73170732],\n",
       "       [  27.71698113,   12.11320755],\n",
       "       [  21.24390244,   35.73170732],\n",
       "       [  27.71698113,   12.11320755],\n",
       "       [  80.08      ,  100.63      ],\n",
       "       [  21.24390244,   35.73170732],\n",
       "       [   9.87096774,   18.06451613],\n",
       "       [  27.71698113,   12.11320755],\n",
       "       [  43.09333333,   42.09333333],\n",
       "       [  43.09333333,   42.09333333],\n",
       "       [  80.08      ,  100.63      ],\n",
       "       [  21.24390244,   35.73170732],\n",
       "       [  21.24390244,   35.73170732],\n",
       "       [  80.08      ,  100.63      ],\n",
       "       [  80.08      ,  100.63      ],\n",
       "       [  27.71698113,   12.11320755],\n",
       "       [  43.09333333,   42.09333333],\n",
       "       [  27.71698113,   12.11320755],\n",
       "       [   9.87096774,   18.06451613],\n",
       "       [  21.24390244,   35.73170732],\n",
       "       [  80.08      ,  100.63      ],\n",
       "       [  43.09333333,   42.09333333],\n",
       "       [  80.08      ,  100.63      ],\n",
       "       [  80.08      ,  100.63      ],\n",
       "       [  43.09333333,   42.09333333],\n",
       "       [  43.09333333,   42.09333333],\n",
       "       [  43.09333333,   42.09333333],\n",
       "       [  27.71698113,   12.11320755],\n",
       "       [  27.71698113,   12.11320755],\n",
       "       [  43.09333333,   42.09333333],\n",
       "       [  43.09333333,   42.09333333],\n",
       "       [  43.09333333,   42.09333333],\n",
       "       [   9.87096774,   18.06451613],\n",
       "       [  27.71698113,   12.11320755],\n",
       "       [  43.09333333,   42.09333333],\n",
       "       [  80.08      ,  100.63      ],\n",
       "       [  43.09333333,   42.09333333],\n",
       "       [  43.09333333,   42.09333333],\n",
       "       [  21.24390244,   35.73170732],\n",
       "       [  80.08      ,  100.63      ],\n",
       "       [  27.71698113,   12.11320755],\n",
       "       [  27.71698113,   12.11320755],\n",
       "       [  80.08      ,  100.63      ],\n",
       "       [  43.09333333,   42.09333333],\n",
       "       [  80.08      ,  100.63      ],\n",
       "       [  21.24390244,   35.73170732],\n",
       "       [  43.09333333,   42.09333333],\n",
       "       [  43.09333333,   42.09333333],\n",
       "       [  43.09333333,   42.09333333],\n",
       "       [  21.24390244,   35.73170732],\n",
       "       [  43.09333333,   42.09333333],\n",
       "       [  43.09333333,   42.09333333],\n",
       "       [  80.08      ,  100.63      ],\n",
       "       [  43.09333333,   42.09333333],\n",
       "       [  27.71698113,   12.11320755],\n",
       "       [  43.09333333,   42.09333333],\n",
       "       [  27.71698113,   12.11320755],\n",
       "       [  43.09333333,   42.09333333],\n",
       "       [  43.09333333,   42.09333333],\n",
       "       [  27.71698113,   12.11320755],\n",
       "       [  43.09333333,   42.09333333],\n",
       "       [  43.09333333,   42.09333333],\n",
       "       [  27.71698113,   12.11320755],\n",
       "       [  80.08      ,  100.63      ],\n",
       "       [  80.08      ,  100.63      ],\n",
       "       [   9.87096774,   18.06451613],\n",
       "       [  21.24390244,   35.73170732],\n",
       "       [  43.09333333,   42.09333333],\n",
       "       [  43.09333333,   42.09333333],\n",
       "       [  27.71698113,   12.11320755],\n",
       "       [  43.09333333,   42.09333333],\n",
       "       [   9.87096774,   18.06451613],\n",
       "       [  43.09333333,   42.09333333],\n",
       "       [  21.24390244,   35.73170732],\n",
       "       [  80.08      ,  100.63      ],\n",
       "       [  80.08      ,  100.63      ],\n",
       "       [  80.08      ,  100.63      ],\n",
       "       [  80.08      ,  100.63      ],\n",
       "       [  80.08      ,  100.63      ],\n",
       "       [  27.71698113,   12.11320755],\n",
       "       [  27.71698113,   12.11320755],\n",
       "       [  43.09333333,   42.09333333],\n",
       "       [  43.09333333,   42.09333333],\n",
       "       [   9.87096774,   18.06451613],\n",
       "       [  43.09333333,   42.09333333],\n",
       "       [  80.08      ,  100.63      ],\n",
       "       [   9.87096774,   18.06451613],\n",
       "       [  80.08      ,  100.63      ],\n",
       "       [  27.71698113,   12.11320755],\n",
       "       [  43.09333333,   42.09333333],\n",
       "       [  80.08      ,  100.63      ],\n",
       "       [  27.71698113,   12.11320755],\n",
       "       [  21.24390244,   35.73170732],\n",
       "       [  21.24390244,   35.73170732],\n",
       "       [  43.09333333,   42.09333333],\n",
       "       [  21.24390244,   35.73170732],\n",
       "       [  80.08      ,  100.63      ],\n",
       "       [  21.24390244,   35.73170732],\n",
       "       [   9.87096774,   18.06451613],\n",
       "       [  27.71698113,   12.11320755],\n",
       "       [  43.09333333,   42.09333333],\n",
       "       [  80.08      ,  100.63      ],\n",
       "       [  21.24390244,   35.73170732],\n",
       "       [  80.08      ,  100.63      ],\n",
       "       [  27.71698113,   12.11320755],\n",
       "       [  80.08      ,  100.63      ],\n",
       "       [  80.08      ,  100.63      ],\n",
       "       [  43.09333333,   42.09333333],\n",
       "       [  80.08      ,  100.63      ],\n",
       "       [  80.08      ,  100.63      ],\n",
       "       [  80.08      ,  100.63      ],\n",
       "       [  80.08      ,  100.63      ],\n",
       "       [  43.09333333,   42.09333333],\n",
       "       [  27.71698113,   12.11320755],\n",
       "       [   9.87096774,   18.06451613],\n",
       "       [  43.09333333,   42.09333333],\n",
       "       [  80.08      ,  100.63      ],\n",
       "       [   9.87096774,   18.06451613],\n",
       "       [   9.87096774,   18.06451613],\n",
       "       [  80.08      ,  100.63      ],\n",
       "       [  43.09333333,   42.09333333],\n",
       "       [  80.08      ,  100.63      ],\n",
       "       [  43.09333333,   42.09333333],\n",
       "       [  21.24390244,   35.73170732],\n",
       "       [  80.08      ,  100.63      ],\n",
       "       [  80.08      ,  100.63      ],\n",
       "       [  43.09333333,   42.09333333],\n",
       "       [  43.09333333,   42.09333333],\n",
       "       [  80.08      ,  100.63      ],\n",
       "       [  43.09333333,   42.09333333],\n",
       "       [  43.09333333,   42.09333333],\n",
       "       [  27.71698113,   12.11320755],\n",
       "       [   9.87096774,   18.06451613],\n",
       "       [  43.09333333,   42.09333333],\n",
       "       [  27.71698113,   12.11320755],\n",
       "       [   9.87096774,   18.06451613],\n",
       "       [   9.87096774,   18.06451613],\n",
       "       [  43.09333333,   42.09333333],\n",
       "       [  80.08      ,  100.63      ],\n",
       "       [  80.08      ,  100.63      ],\n",
       "       [  27.71698113,   12.11320755],\n",
       "       [  43.09333333,   42.09333333],\n",
       "       [  21.24390244,   35.73170732],\n",
       "       [  80.08      ,  100.63      ],\n",
       "       [   9.87096774,   18.06451613],\n",
       "       [   9.87096774,   18.06451613],\n",
       "       [   9.87096774,   18.06451613],\n",
       "       [  80.08      ,  100.63      ],\n",
       "       [  80.08      ,  100.63      ],\n",
       "       [  43.09333333,   42.09333333],\n",
       "       [  21.24390244,   35.73170732],\n",
       "       [  80.08      ,  100.63      ],\n",
       "       [   9.87096774,   18.06451613],\n",
       "       [  27.71698113,   12.11320755],\n",
       "       [  43.09333333,   42.09333333],\n",
       "       [  27.71698113,   12.11320755],\n",
       "       [  80.08      ,  100.63      ],\n",
       "       [  80.08      ,  100.63      ],\n",
       "       [  27.71698113,   12.11320755],\n",
       "       [  27.71698113,   12.11320755],\n",
       "       [  80.08      ,  100.63      ],\n",
       "       [  27.71698113,   12.11320755],\n",
       "       [  43.09333333,   42.09333333],\n",
       "       [  80.08      ,  100.63      ],\n",
       "       [   9.87096774,   18.06451613],\n",
       "       [   9.87096774,   18.06451613],\n",
       "       [  43.09333333,   42.09333333],\n",
       "       [  21.24390244,   35.73170732],\n",
       "       [  27.71698113,   12.11320755],\n",
       "       [  43.09333333,   42.09333333],\n",
       "       [  21.24390244,   35.73170732],\n",
       "       [   9.87096774,   18.06451613],\n",
       "       [   9.87096774,   18.06451613],\n",
       "       [  21.24390244,   35.73170732],\n",
       "       [  27.71698113,   12.11320755],\n",
       "       [  21.24390244,   35.73170732],\n",
       "       [  21.24390244,   35.73170732],\n",
       "       [  27.71698113,   12.11320755],\n",
       "       [  43.09333333,   42.09333333],\n",
       "       [  21.24390244,   35.73170732],\n",
       "       [  43.09333333,   42.09333333],\n",
       "       [  43.09333333,   42.09333333],\n",
       "       [  80.08      ,  100.63      ],\n",
       "       [  43.09333333,   42.09333333],\n",
       "       [  21.24390244,   35.73170732],\n",
       "       [   9.87096774,   18.06451613],\n",
       "       [  43.09333333,   42.09333333],\n",
       "       [  27.71698113,   12.11320755],\n",
       "       [  43.09333333,   42.09333333],\n",
       "       [  27.71698113,   12.11320755],\n",
       "       [  21.24390244,   35.73170732],\n",
       "       [  21.24390244,   35.73170732],\n",
       "       [  80.08      ,  100.63      ],\n",
       "       [  80.08      ,  100.63      ],\n",
       "       [  80.08      ,  100.63      ],\n",
       "       [   9.87096774,   18.06451613],\n",
       "       [  80.08      ,  100.63      ],\n",
       "       [  27.71698113,   12.11320755],\n",
       "       [  21.24390244,   35.73170732],\n",
       "       [  80.08      ,  100.63      ],\n",
       "       [  21.24390244,   35.73170732],\n",
       "       [  80.08      ,  100.63      ],\n",
       "       [  80.08      ,  100.63      ],\n",
       "       [  80.08      ,  100.63      ],\n",
       "       [  80.08      ,  100.63      ],\n",
       "       [  21.24390244,   35.73170732],\n",
       "       [  80.08      ,  100.63      ],\n",
       "       [  80.08      ,  100.63      ],\n",
       "       [  21.24390244,   35.73170732],\n",
       "       [  43.09333333,   42.09333333],\n",
       "       [  80.08      ,  100.63      ],\n",
       "       [  80.08      ,  100.63      ],\n",
       "       [  80.08      ,  100.63      ],\n",
       "       [  80.08      ,  100.63      ],\n",
       "       [  80.08      ,  100.63      ],\n",
       "       [  80.08      ,  100.63      ],\n",
       "       [  43.09333333,   42.09333333],\n",
       "       [  80.08      ,  100.63      ],\n",
       "       [  80.08      ,  100.63      ],\n",
       "       [  21.24390244,   35.73170732],\n",
       "       [  80.08      ,  100.63      ],\n",
       "       [  80.08      ,  100.63      ],\n",
       "       [  80.08      ,  100.63      ],\n",
       "       [  27.71698113,   12.11320755],\n",
       "       [  21.24390244,   35.73170732],\n",
       "       [  43.09333333,   42.09333333],\n",
       "       [  80.08      ,  100.63      ],\n",
       "       [  27.71698113,   12.11320755],\n",
       "       [  21.24390244,   35.73170732],\n",
       "       [   9.87096774,   18.06451613],\n",
       "       [   9.87096774,   18.06451613],\n",
       "       [  43.09333333,   42.09333333],\n",
       "       [  80.08      ,  100.63      ],\n",
       "       [  27.71698113,   12.11320755],\n",
       "       [   9.87096774,   18.06451613],\n",
       "       [  80.08      ,  100.63      ],\n",
       "       [  43.09333333,   42.09333333],\n",
       "       [  27.71698113,   12.11320755],\n",
       "       [  80.08      ,  100.63      ],\n",
       "       [  43.09333333,   42.09333333],\n",
       "       [  80.08      ,  100.63      ],\n",
       "       [  80.08      ,  100.63      ],\n",
       "       [  80.08      ,  100.63      ],\n",
       "       [  27.71698113,   12.11320755],\n",
       "       [  21.24390244,   35.73170732],\n",
       "       [  43.09333333,   42.09333333],\n",
       "       [  21.24390244,   35.73170732],\n",
       "       [  43.09333333,   42.09333333],\n",
       "       [  80.08      ,  100.63      ],\n",
       "       [  80.08      ,  100.63      ],\n",
       "       [  27.71698113,   12.11320755],\n",
       "       [  80.08      ,  100.63      ],\n",
       "       [   9.87096774,   18.06451613],\n",
       "       [  80.08      ,  100.63      ],\n",
       "       [  21.24390244,   35.73170732],\n",
       "       [  21.24390244,   35.73170732],\n",
       "       [  43.09333333,   42.09333333],\n",
       "       [  43.09333333,   42.09333333],\n",
       "       [  27.71698113,   12.11320755],\n",
       "       [  43.09333333,   42.09333333],\n",
       "       [  80.08      ,  100.63      ],\n",
       "       [  80.08      ,  100.63      ],\n",
       "       [  80.08      ,  100.63      ],\n",
       "       [  80.08      ,  100.63      ],\n",
       "       [  80.08      ,  100.63      ],\n",
       "       [   9.87096774,   18.06451613],\n",
       "       [   9.87096774,   18.06451613],\n",
       "       [  80.08      ,  100.63      ],\n",
       "       [  80.08      ,  100.63      ],\n",
       "       [  80.08      ,  100.63      ],\n",
       "       [  43.09333333,   42.09333333],\n",
       "       [  27.71698113,   12.11320755],\n",
       "       [  27.71698113,   12.11320755],\n",
       "       [  80.08      ,  100.63      ],\n",
       "       [  80.08      ,  100.63      ],\n",
       "       [  21.24390244,   35.73170732],\n",
       "       [  43.09333333,   42.09333333],\n",
       "       [  80.08      ,  100.63      ],\n",
       "       [  80.08      ,  100.63      ],\n",
       "       [  21.24390244,   35.73170732],\n",
       "       [  43.09333333,   42.09333333],\n",
       "       [   9.87096774,   18.06451613],\n",
       "       [  43.09333333,   42.09333333],\n",
       "       [  80.08      ,  100.63      ],\n",
       "       [  80.08      ,  100.63      ],\n",
       "       [  80.08      ,  100.63      ],\n",
       "       [  27.71698113,   12.11320755],\n",
       "       [  43.09333333,   42.09333333],\n",
       "       [  80.08      ,  100.63      ],\n",
       "       [  80.08      ,  100.63      ],\n",
       "       [  27.71698113,   12.11320755],\n",
       "       [  27.71698113,   12.11320755],\n",
       "       [  27.71698113,   12.11320755]])"
      ]
     },
     "execution_count": 22,
     "metadata": {},
     "output_type": "execute_result"
    }
   ],
   "source": [
    "import numpy as np\n",
    "import scipy.spatial\n",
    "import matplotlib.pyplot as plt\n",
    " \n",
    "x = np.trunc(np.random.normal(2,1,100)*10)\n",
    "y = np.trunc(np.random.normal(2,1,100)*10)\n",
    "\n",
    "x2=np.trunc(np.random.normal(4,1,100)*10)\n",
    "y2=np.trunc(np.random.normal(4,1,100)*10)\n",
    "\n",
    "x3=np.trunc(np.random.normal(8,1,100)*10)\n",
    "y3=np.trunc(np.random.normal(10,1,100)*10)\n",
    "\n",
    "A0 = np.column_stack((x,y))\n",
    "A1 = np.column_stack((x2,y2))\n",
    "A2 = np.column_stack((x3,y3))\n",
    "\n",
    "# stacking vectors to matrix with x,y coordinates\n",
    "A = np.vstack((A0,A1,A2))\n",
    "np.random.shuffle(A)\n",
    "\n",
    "def get_diffs(A,centroids):\n",
    "    return (A[:,np.newaxis,:] - centroids) #np.newaxis adds new dimention\n",
    "    \n",
    "def count_dist(A,centroids):\n",
    "    return np.sqrt(np.sum(get_diffs(A,centroids)**2,axis=2))\n",
    "\n",
    "def closest_centroid(A,centroids):\n",
    "    return np.argmin(count_dist(A,centroids),axis=1)\n",
    "    \n",
    "\n",
    "def k_means(A,k):\n",
    "    centroids = A[np.random.choice(A.shape[0],k)]\n",
    "    closest_centr = closest_centroid(A,centroids)\n",
    "    counter = 0\n",
    "    sq_err_list = []\n",
    "    \n",
    "    while sq_error(A,centroids,closest_centr) > 1000 and counter < 20:\n",
    "        closest_centr = closest_centroid(A,centroids)\n",
    "\n",
    "        A_one_hot = np.zeros((A.shape[0],closest_centr.max()+1))\n",
    "        rows = np.arange(A.shape[0])\n",
    "        cols = closest_centr\n",
    "        A_one_hot[rows,cols] = 1\n",
    "\n",
    "        centroids = np.transpose((np.matmul(A.T,A_one_hot))/np.sum(A_one_hot,axis=0))\n",
    "        counter+=1\n",
    "        \n",
    "        sq_err_list.append((counter,sq_error(A,centroids,closest_centr)))\n",
    "        \n",
    "    return centroids,closest_centr,sq_err_list\n",
    "\n",
    "    \n",
    "def sq_error(A,centroids,closest_centr):\n",
    "    \n",
    "    return np.sum(np.sqrt(np.sum((A - centroids[closest_centr])**2,axis=1))**2) #fancy indexing centroids[closest_centr]\n",
    "\n",
    "clustered_A = k_means(A,5)\n",
    "centroids = clustered_A[0]\n",
    "closest_centr = clustered_A[1]\n"
   ]
  },
  {
   "cell_type": "code",
   "execution_count": 75,
   "metadata": {},
   "outputs": [
    {
     "data": {
      "image/png": "[encoded data removed]",
      "text/plain": [
       "<matplotlib.figure.Figure at 0x7fa13c9d2cf8>"
      ]
     },
     "metadata": {},
     "output_type": "display_data"
    }
   ],
   "source": [
    "colors = np.array([\"#FF0000\",\"#00FF00\", \"#0000FF\",\"#F0F8FF\",\"#FF7F50\"])\n",
    "plt.scatter(A[:,0],A[:,1],color=colors[closest_centr])\n",
    "plt.plot(centroids[:,0], centroids[:,1], 'yo')\n",
    "plt.show()"
   ]
  },
  {
   "cell_type": "markdown",
   "metadata": {},
   "source": [
    "### Fancy indexing numpy"
   ]
  },
  {
   "cell_type": "code",
   "execution_count": null,
   "metadata": {
    "collapsed": true
   },
   "outputs": [],
   "source": [
    "A=np.array([23,15,10])\n",
    "A = A[np.newaxis,:]\n",
    "B=np.array([0,1,1,2,0,1,1,1])\n",
    "B = B[np.newaxis,:]\n",
    "B.shape, A.shape, A[:,B]"
   ]
  },
  {
   "cell_type": "markdown",
   "metadata": {},
   "source": [
    "### Broadcasting explained"
   ]
  },
  {
   "cell_type": "code",
   "execution_count": 78,
   "metadata": {},
   "outputs": [],
   "source": [
    "## example of broadcasting:\n",
    "## we start with n x d matrix, where n is num of points and d is number of attributes\n",
    "## B matrix is centroid matrix - k x d size, where k is num of centroids\n",
    "## to calc distances between every n-entry and k-centroid in B matrix we need additional dimention\n",
    "## We can add dim by using np.newaxis\n",
    "## After adding newaxis numpy will do the broadcasting, when calculating diffs.\n",
    "## n x d - before\n",
    "## n x 1 x d - A matrix after broadcasting\n",
    "## 1 x k x d - B matrix after broadcasting\n",
    "## After operation A - B: matrix of size n x k x d, where every k x d entry is an nth diff between A and B "
   ]
  },
  {
   "cell_type": "code",
   "execution_count": null,
   "metadata": {
    "collapsed": true
   },
   "outputs": [],
   "source": [
    "astype"
   ]
  }
 ],
 "metadata": {
  "kernelspec": {
   "display_name": "Python 3",
   "language": "python",
   "name": "python3"
  },
  "language_info": {
   "codemirror_mode": {
    "name": "ipython",
    "version": 3
   },
   "file_extension": ".py",
   "mimetype": "text/x-python",
   "name": "python",
   "nbconvert_exporter": "python",
   "pygments_lexer": "ipython3",
   "version": "3.6.4"
  }
 },
 "nbformat": 4,
 "nbformat_minor": 2
}
